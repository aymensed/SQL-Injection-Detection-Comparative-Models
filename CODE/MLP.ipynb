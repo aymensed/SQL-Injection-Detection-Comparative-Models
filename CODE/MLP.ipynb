{
  "cells": [
    {
      "cell_type": "markdown",
      "id": "0f1171e1",
      "metadata": {
        "id": "0f1171e1"
      },
      "source": [
        "#### Importing the libraries"
      ]
    },
    {
      "cell_type": "code",
      "execution_count": 85,
      "id": "d7a3106a-daa7-42e0-bfa6-689ea9969cd0",
      "metadata": {
        "id": "d7a3106a-daa7-42e0-bfa6-689ea9969cd0"
      },
      "outputs": [],
      "source": [
        "import pandas as pd\n",
        "import numpy as np\n",
        "from sklearn.model_selection import train_test_split\n",
        "import matplotlib.pyplot as plt\n",
        "from keras.models import Sequential\n",
        "from keras.layers import Dense\n",
        "from keras import optimizers, regularizers\n",
        "import matplotlib.colors as mcolors\n",
        "import seaborn as sns\n",
        "from keras.callbacks import EarlyStopping, ReduceLROnPlateau\n",
        "from sklearn.metrics import accuracy_score, precision_score, recall_score, f1_score, classification_report\n",
        "from sklearn.feature_extraction.text import TfidfVectorizer"
      ]
    },
    {
      "cell_type": "markdown",
      "id": "563e938b",
      "metadata": {
        "id": "563e938b"
      },
      "source": [
        "#### loading and displaying the datasets"
      ]
    },
    {
      "cell_type": "code",
      "execution_count": 86,
      "id": "d11b656b-df7b-49b0-84a7-c3a0a6f23aed",
      "metadata": {
        "colab": {
          "base_uri": "https://localhost:8080/"
        },
        "id": "d11b656b-df7b-49b0-84a7-c3a0a6f23aed",
        "outputId": "6d593c25-4d99-44eb-8c16-a3e7ddddf5ca"
      },
      "outputs": [
        {
          "name": "stdout",
          "output_type": "stream",
          "text": [
            "                                                Sentence  Label\n",
            "0                      \" or pg_sleep  (  __TIME__  )  --      1\n",
            "1      create user name identified by pass123 tempora...      1\n",
            "2       AND 1  =  utl_inaddr.get_host_address   (    ...      1\n",
            "3       select * from users where id  =  '1' or @ @1 ...      1\n",
            "4       select * from users where id  =  1 or 1#\"  ( ...      1\n",
            "...                                                  ...    ...\n",
            "30609              DELETE FROM door WHERE grow = 'small'      0\n",
            "30610                               DELETE FROM tomorrow      0\n",
            "30611                       SELECT wide ( s )  FROM west      0\n",
            "30612       SELECT * FROM  ( SELECT slide FROM breath )       0\n",
            "30613                           SELECT TOP 3 * FROM race      0\n",
            "\n",
            "[30614 rows x 2 columns]\n"
          ]
        }
      ],
      "source": [
        "train=pd.read_csv('SQLIV3_cleaned2.csv')\n",
        "test=pd.read_csv('sqliv2_utf8.csv')\n",
        "print(train)"
      ]
    },
    {
      "cell_type": "code",
      "execution_count": 87,
      "id": "75cf2f66-7b61-4d2d-b790-d4dd79f1c54f",
      "metadata": {
        "colab": {
          "base_uri": "https://localhost:8080/",
          "height": 178
        },
        "id": "75cf2f66-7b61-4d2d-b790-d4dd79f1c54f",
        "outputId": "3735a79f-a34d-4261-8eb4-9b8c25e31370"
      },
      "outputs": [
        {
          "data": {
            "text/html": [
              "<div>\n",
              "<style scoped>\n",
              "    .dataframe tbody tr th:only-of-type {\n",
              "        vertical-align: middle;\n",
              "    }\n",
              "\n",
              "    .dataframe tbody tr th {\n",
              "        vertical-align: top;\n",
              "    }\n",
              "\n",
              "    .dataframe thead th {\n",
              "        text-align: right;\n",
              "    }\n",
              "</style>\n",
              "<table border=\"1\" class=\"dataframe\">\n",
              "  <thead>\n",
              "    <tr style=\"text-align: right;\">\n",
              "      <th></th>\n",
              "      <th>count</th>\n",
              "    </tr>\n",
              "    <tr>\n",
              "      <th>Label</th>\n",
              "      <th></th>\n",
              "    </tr>\n",
              "  </thead>\n",
              "  <tbody>\n",
              "    <tr>\n",
              "      <th>0</th>\n",
              "      <td>19268</td>\n",
              "    </tr>\n",
              "    <tr>\n",
              "      <th>1</th>\n",
              "      <td>11346</td>\n",
              "    </tr>\n",
              "  </tbody>\n",
              "</table>\n",
              "</div><br><label><b>dtype:</b> int64</label>"
            ],
            "text/plain": [
              "Label\n",
              "0    19268\n",
              "1    11346\n",
              "Name: count, dtype: int64"
            ]
          },
          "execution_count": 87,
          "metadata": {},
          "output_type": "execute_result"
        }
      ],
      "source": [
        "train.Label.value_counts()\n"
      ]
    },
    {
      "cell_type": "markdown",
      "id": "4c7c6c72",
      "metadata": {
        "id": "4c7c6c72"
      },
      "source": [
        "#### 'Label' Data Distribution\n"
      ]
    },
    {
      "cell_type": "code",
      "execution_count": 88,
      "id": "c3a76e13",
      "metadata": {
        "colab": {
          "base_uri": "https://localhost:8080/",
          "height": 639
        },
        "id": "c3a76e13",
        "outputId": "39847884-7e7b-408d-b736-9ce9fefa7162"
      },
      "outputs": [
        {
          "name": "stderr",
          "output_type": "stream",
          "text": [
            "<ipython-input-88-3937f5fac716>:7: FutureWarning: \n",
            "\n",
            "Passing `palette` without assigning `hue` is deprecated and will be removed in v0.14.0. Assign the `x` variable to `hue` and set `legend=False` for the same effect.\n",
            "\n",
            "  sns.countplot(x='Label', data=train, ax=ax[1], palette=colors)\n",
            "<ipython-input-88-3937f5fac716>:7: UserWarning: The palette list has more values (10) than needed (2), which may not be intended.\n",
            "  sns.countplot(x='Label', data=train, ax=ax[1], palette=colors)\n"
          ]
        },
        {
          "data": {
            "text/plain": [
              "Text(0.5, 1.0, 'Label')"
            ]
          },
          "execution_count": 88,
          "metadata": {},
          "output_type": "execute_result"
        },
        {
          "data": {
            "image/png": "[encoded data removed]",
            "text/plain": [
              "<Figure size 1200x800 with 2 Axes>"
            ]
          },
          "metadata": {},
          "output_type": "display_data"
        }
      ],
      "source": [
        "f, ax = plt.subplots(1, 2, figsize=(12, 8))\n",
        "colors = list(mcolors.TABLEAU_COLORS.values())\n",
        "train['Label'].value_counts().plot.pie(explode=[0, 0.1], autopct='%1.1f%%', ax=ax[0], wedgeprops={'edgecolor': 'white', 'linewidth': 2, 'antialiased': True}, colors=colors)\n",
        "\n",
        "ax[0].set_title('Label')\n",
        "ax[0].set_ylabel('')\n",
        "sns.countplot(x='Label', data=train, ax=ax[1], palette=colors)\n",
        "ax[1].set_title('Label')"
      ]
    },
    {
      "cell_type": "code",
      "execution_count": null,
      "id": "1776bb41",
      "metadata": {
        "id": "1776bb41"
      },
      "outputs": [],
      "source": [
        "from sklearn.model_selection import train_test_split\n",
        "\n",
        "X = train['Sentence'].values\n",
        "y = train['Label'].values\n",
        "\n",
        "X_train, X_val, y_train, y_val = train_test_split(X, y, test_size=0.2, random_state=42)\n"
      ]
    },
    {
      "cell_type": "markdown",
      "id": "1a0b05b3",
      "metadata": {
        "id": "1a0b05b3"
      },
      "source": [
        "#### Text Vectorization"
      ]
    },
    {
      "cell_type": "code",
      "execution_count": 90,
      "id": "Qa6VAWxBwVSk",
      "metadata": {
        "id": "Qa6VAWxBwVSk"
      },
      "outputs": [],
      "source": [
        "vectorizer = TfidfVectorizer(max_features=3000)\n",
        "X_train = vectorizer.fit_transform(X_train).toarray()\n",
        "X_val = vectorizer.transform(X_val).toarray()"
      ]
    },
    {
      "cell_type": "markdown",
      "id": "5d6f0549",
      "metadata": {
        "id": "5d6f0549"
      },
      "source": [
        "#### Model Configuration"
      ]
    },
    {
      "cell_type": "code",
      "execution_count": 91,
      "id": "412073c3-1310-40fb-b4b3-0a28debc9847",
      "metadata": {
        "id": "412073c3-1310-40fb-b4b3-0a28debc9847"
      },
      "outputs": [],
      "source": [
        "hidden_units1=512\n",
        "hidden_units2=256\n",
        "hidden_units3=128\n",
        "learning_rate=0.01\n",
        "hidden_layer_act='relu'\n",
        "output_layer_act='sigmoid'\n",
        "no_epochs=27"
      ]
    },
    {
      "cell_type": "code",
      "execution_count": 92,
      "id": "e204224d-a150-489b-9427-3586a70bcb89",
      "metadata": {
        "colab": {
          "base_uri": "https://localhost:8080/"
        },
        "id": "e204224d-a150-489b-9427-3586a70bcb89",
        "outputId": "a07bffbc-82a5-450a-deed-06853df8ce39"
      },
      "outputs": [
        {
          "name": "stderr",
          "output_type": "stream",
          "text": [
            "/usr/local/lib/python3.11/dist-packages/keras/src/layers/core/dense.py:87: UserWarning: Do not pass an `input_shape`/`input_dim` argument to a layer. When using Sequential models, prefer using an `Input(shape)` object as the first layer in the model instead.\n",
            "  super().__init__(activity_regularizer=activity_regularizer, **kwargs)\n"
          ]
        }
      ],
      "source": [
        "model = Sequential()\n",
        "model.add(Dense(hidden_units1, input_dim=3000, activation=hidden_layer_act))\n",
        "model.add(Dense(hidden_units2, activation=hidden_layer_act))\n",
        "model.add(Dense(hidden_units3, activation=hidden_layer_act))\n",
        "model.add(Dense(1, activation=output_layer_act))"
      ]
    },
    {
      "cell_type": "markdown",
      "id": "91245e30",
      "metadata": {
        "id": "91245e30"
      },
      "source": [
        "#### Compilation"
      ]
    },
    {
      "cell_type": "code",
      "execution_count": 93,
      "id": "efe741ba-f8cb-420d-b7aa-689af9ea3f32",
      "metadata": {
        "id": "efe741ba-f8cb-420d-b7aa-689af9ea3f32"
      },
      "outputs": [],
      "source": [
        "sgd=optimizers.SGD(learning_rate=learning_rate)\n",
        "model.compile(loss='binary_crossentropy',optimizer=sgd, metrics=['accuracy'])"
      ]
    },
    {
      "cell_type": "markdown",
      "id": "e019b191",
      "metadata": {
        "id": "e019b191"
      },
      "source": [
        "#### Model training"
      ]
    },
    {
      "cell_type": "code",
      "execution_count": 94,
      "id": "y9-xnlvAeKhR",
      "metadata": {
        "id": "y9-xnlvAeKhR"
      },
      "outputs": [],
      "source": [
        "early_stop = EarlyStopping(patience=3, restore_best_weights=True)"
      ]
    },
    {
      "cell_type": "code",
      "execution_count": 95,
      "id": "c63bcaa0-3606-4d24-a966-76e02f79a0e3",
      "metadata": {
        "colab": {
          "base_uri": "https://localhost:8080/"
        },
        "id": "c63bcaa0-3606-4d24-a966-76e02f79a0e3",
        "outputId": "a7061101-8f4a-47e9-b379-4d48acf4c9e5"
      },
      "outputs": [
        {
          "name": "stdout",
          "output_type": "stream",
          "text": [
            "Epoch 1/27\n",
            "766/766 - 4s - 6ms/step - accuracy: 0.6284 - loss: 0.6463 - val_accuracy: 0.6309 - val_loss: 0.6149\n",
            "Epoch 2/27\n",
            "766/766 - 3s - 4ms/step - accuracy: 0.7040 - loss: 0.5501 - val_accuracy: 0.8811 - val_loss: 0.4121\n",
            "Epoch 3/27\n",
            "766/766 - 2s - 3ms/step - accuracy: 0.9241 - loss: 0.2813 - val_accuracy: 0.9780 - val_loss: 0.1316\n",
            "Epoch 4/27\n",
            "766/766 - 3s - 3ms/step - accuracy: 0.9584 - loss: 0.1373 - val_accuracy: 0.9873 - val_loss: 0.0732\n",
            "Epoch 5/27\n",
            "766/766 - 3s - 3ms/step - accuracy: 0.9651 - loss: 0.0959 - val_accuracy: 0.9895 - val_loss: 0.0528\n",
            "Epoch 6/27\n",
            "766/766 - 2s - 3ms/step - accuracy: 0.9735 - loss: 0.0752 - val_accuracy: 0.9910 - val_loss: 0.0445\n",
            "Epoch 7/27\n",
            "766/766 - 2s - 3ms/step - accuracy: 0.9813 - loss: 0.0623 - val_accuracy: 0.9933 - val_loss: 0.0363\n",
            "Epoch 8/27\n",
            "766/766 - 2s - 3ms/step - accuracy: 0.9871 - loss: 0.0534 - val_accuracy: 0.9940 - val_loss: 0.0322\n",
            "Epoch 9/27\n",
            "766/766 - 3s - 4ms/step - accuracy: 0.9902 - loss: 0.0472 - val_accuracy: 0.9904 - val_loss: 0.0388\n",
            "Epoch 10/27\n",
            "766/766 - 3s - 4ms/step - accuracy: 0.9922 - loss: 0.0428 - val_accuracy: 0.9912 - val_loss: 0.0360\n",
            "Epoch 11/27\n",
            "766/766 - 4s - 6ms/step - accuracy: 0.9932 - loss: 0.0393 - val_accuracy: 0.9949 - val_loss: 0.0276\n",
            "Epoch 12/27\n",
            "766/766 - 3s - 4ms/step - accuracy: 0.9938 - loss: 0.0367 - val_accuracy: 0.9940 - val_loss: 0.0301\n",
            "Epoch 13/27\n",
            "766/766 - 3s - 4ms/step - accuracy: 0.9942 - loss: 0.0349 - val_accuracy: 0.9943 - val_loss: 0.0273\n",
            "Epoch 14/27\n",
            "766/766 - 2s - 3ms/step - accuracy: 0.9943 - loss: 0.0333 - val_accuracy: 0.9943 - val_loss: 0.0283\n",
            "Epoch 15/27\n",
            "766/766 - 2s - 3ms/step - accuracy: 0.9942 - loss: 0.0318 - val_accuracy: 0.9944 - val_loss: 0.0259\n",
            "Epoch 16/27\n",
            "766/766 - 2s - 3ms/step - accuracy: 0.9946 - loss: 0.0308 - val_accuracy: 0.9944 - val_loss: 0.0261\n",
            "Epoch 17/27\n",
            "766/766 - 2s - 3ms/step - accuracy: 0.9946 - loss: 0.0300 - val_accuracy: 0.9927 - val_loss: 0.0326\n",
            "Epoch 18/27\n",
            "766/766 - 2s - 3ms/step - accuracy: 0.9950 - loss: 0.0295 - val_accuracy: 0.9941 - val_loss: 0.0272\n"
          ]
        }
      ],
      "source": [
        "history = model.fit(X_train, y_train,\n",
        "                    epochs=no_epochs,\n",
        "                    batch_size=32,\n",
        "                    verbose=2,\n",
        "                    validation_data=(X_val, y_val),\n",
        "                    callbacks=[early_stop])"
      ]
    },
    {
      "cell_type": "markdown",
      "id": "5a1a2518",
      "metadata": {
        "id": "5a1a2518"
      },
      "source": [
        "#### Final Training Metrics Display"
      ]
    },
    {
      "cell_type": "code",
      "execution_count": 96,
      "id": "a8a51b22-e514-4235-b334-acba5ad1a549",
      "metadata": {
        "colab": {
          "base_uri": "https://localhost:8080/"
        },
        "id": "a8a51b22-e514-4235-b334-acba5ad1a549",
        "outputId": "5f1e7561-85c6-4865-864a-a9051338a5df"
      },
      "outputs": [
        {
          "name": "stdout",
          "output_type": "stream",
          "text": [
            "Final Training Loss: 0.029541833326220512\n",
            "Final Training Accuracy: 0.9950186014175415\n"
          ]
        }
      ],
      "source": [
        "\n",
        "print(\"Final Training Loss:\", history.history['loss'][-1])\n",
        "print(\"Final Training Accuracy:\", history.history['accuracy'][-1])\n",
        "\n"
      ]
    },
    {
      "cell_type": "code",
      "execution_count": 117,
      "id": "5c7071a2-1d41-47af-9efd-a29d3c469e3f",
      "metadata": {
        "colab": {
          "base_uri": "https://localhost:8080/",
          "height": 767
        },
        "id": "5c7071a2-1d41-47af-9efd-a29d3c469e3f",
        "outputId": "c7edbe01-42d4-428e-e973-005d91581b06"
      },
      "outputs": [
        {
          "name": "stdout",
          "output_type": "stream",
          "text": [
            "\u001b[1m192/192\u001b[0m \u001b[32m━━━━━━━━━━━━━━━━━━━━\u001b[0m\u001b[37m\u001b[0m \u001b[1m1s\u001b[0m 3ms/step\n",
            "\n",
            "Classification Report (validation):\n",
            "               precision    recall  f1-score   support\n",
            "\n",
            "           0       0.99      1.00      1.00      3863\n",
            "           1       1.00      0.99      0.99      2260\n",
            "\n",
            "    accuracy                           0.99      6123\n",
            "   macro avg       0.99      0.99      0.99      6123\n",
            "weighted avg       0.99      0.99      0.99      6123\n",
            "\n",
            "Évaluation on validation set :\n",
            "Accuracy:  0.9944\n",
            "Precision: 0.9951\n",
            "Recall:    0.9898\n",
            "F1 Score:  0.9925\n"
          ]
        },
        {
          "data": {
            "image/png": "[encoded data removed]",
            "text/plain": [
              "<Figure size 640x480 with 2 Axes>"
            ]
          },
          "metadata": {},
          "output_type": "display_data"
        }
      ],
      "source": [
        "from sklearn.metrics import confusion_matrix, ConfusionMatrixDisplay, classification_report, accuracy_score, precision_score, recall_score, f1_score\n",
        "\n",
        "# 1. Prédiction sur les données de validation\n",
        "y_val_pred = model.predict(X_val)\n",
        "y_val_pred_binary = (y_val_pred > 0.5).astype(int).flatten()\n",
        "\n",
        "# 2. Calcul des métriques sur la validation\n",
        "val_accuracy = accuracy_score(y_val, y_val_pred_binary)\n",
        "val_precision = precision_score(y_val, y_val_pred_binary)\n",
        "val_recall = recall_score(y_val, y_val_pred_binary)\n",
        "val_f1 = f1_score(y_val, y_val_pred_binary)\n",
        "\n",
        "# 3. Affichage du rapport de classification\n",
        "print(\"\\nClassification Report (validation):\\n\", classification_report(y_val, y_val_pred_binary, target_names=['0', '1']))\n",
        "print(\"Évaluation on validation set :\")\n",
        "print(f\"Accuracy:  {val_accuracy:.4f}\")\n",
        "print(f\"Precision: {val_precision:.4f}\")\n",
        "print(f\"Recall:    {val_recall:.4f}\")\n",
        "print(f\"F1 Score:  {val_f1:.4f}\")\n",
        "\n",
        "# 4. Matrice de confusion\n",
        "cm = confusion_matrix(y_val, y_val_pred_binary)\n",
        "disp = ConfusionMatrixDisplay(confusion_matrix=cm, display_labels=['0', '1'])\n",
        "disp.plot(cmap='Blues')\n",
        "plt.title(\"Confusion matrix \")\n",
        "plt.show()\n"
      ]
    },
    {
      "cell_type": "code",
      "execution_count": 98,
      "id": "b27a0097",
      "metadata": {
        "colab": {
          "base_uri": "https://localhost:8080/"
        },
        "id": "b27a0097",
        "outputId": "dadccf4b-6934-421a-90bd-20983efe3b86"
      },
      "outputs": [
        {
          "name": "stderr",
          "output_type": "stream",
          "text": [
            "WARNING:absl:You are saving your model as an HDF5 file via `model.save()` or `keras.saving.save_model(model)`. This file format is considered legacy. We recommend using instead the native Keras format, e.g. `model.save('my_model.keras')` or `keras.saving.save_model(model, 'my_model.keras')`. \n"
          ]
        }
      ],
      "source": [
        "model.save('/content/mlp.h5')\n"
      ]
    },
    {
      "cell_type": "markdown",
      "id": "098c3d5e",
      "metadata": {
        "id": "098c3d5e"
      },
      "source": [
        "#### Plotting Loss and Accuracy over Epochs\n"
      ]
    },
    {
      "cell_type": "code",
      "execution_count": 99,
      "id": "2e66b4b5-4d1e-470b-8367-aa7e0a4c49b3",
      "metadata": {
        "colab": {
          "base_uri": "https://localhost:8080/",
          "height": 927
        },
        "id": "2e66b4b5-4d1e-470b-8367-aa7e0a4c49b3",
        "outputId": "1616525f-9435-41a7-c574-319fa03a46b2"
      },
      "outputs": [
        {
          "data": {
            "image/png": "[encoded data removed]",
            "text/plain": [
              "<Figure size 640x480 with 1 Axes>"
            ]
          },
          "metadata": {},
          "output_type": "display_data"
        },
        {
          "data": {
            "image/png": "[encoded data removed]",
            "text/plain": [
              "<Figure size 640x480 with 1 Axes>"
            ]
          },
          "metadata": {},
          "output_type": "display_data"
        }
      ],
      "source": [
        "plt.plot(history.history['loss'], label='Train Loss')\n",
        "plt.plot(history.history['val_loss'], label='Validation Loss')\n",
        "plt.title('Loss over epochs')\n",
        "plt.xlabel('Epochs')\n",
        "plt.ylabel('Loss')\n",
        "plt.legend()\n",
        "plt.show()\n",
        "\n",
        "plt.plot(history.history['accuracy'], label='Train Accuracy')\n",
        "plt.plot(history.history['val_accuracy'], label='Validation Accuracy')\n",
        "plt.title('Accuracy over epochs')\n",
        "plt.xlabel('Epochs')\n",
        "plt.ylabel('Accuracy')\n",
        "plt.legend()\n",
        "plt.show()"
      ]
    },
    {
      "cell_type": "code",
      "execution_count": 100,
      "id": "c01ac1ed-4d2b-4220-b02e-3d0af1fdda71",
      "metadata": {
        "colab": {
          "base_uri": "https://localhost:8080/"
        },
        "id": "c01ac1ed-4d2b-4220-b02e-3d0af1fdda71",
        "outputId": "bd34336b-9c5d-4c71-e14e-124bcca599a0"
      },
      "outputs": [
        {
          "name": "stdout",
          "output_type": "stream",
          "text": [
            "Sentence    3\n",
            "Label       0\n",
            "dtype: int64\n"
          ]
        }
      ],
      "source": [
        "test_x = test['Sentence'].values\n",
        "test_y = test['Label'].values\n",
        "print(test.isnull().sum())\n"
      ]
    },
    {
      "cell_type": "code",
      "execution_count": 101,
      "id": "930b3f21-dbbb-4b3b-8366-0b9e4f4b5a3b",
      "metadata": {
        "id": "930b3f21-dbbb-4b3b-8366-0b9e4f4b5a3b"
      },
      "outputs": [],
      "source": [
        "test = test.dropna(subset=['Sentence'])\n",
        "\n"
      ]
    },
    {
      "cell_type": "markdown",
      "id": "4e4b841a",
      "metadata": {
        "id": "4e4b841a"
      },
      "source": [
        "#### Filter Only SQL Injection (Label = 1)\n"
      ]
    },
    {
      "cell_type": "code",
      "execution_count": 102,
      "id": "665b1c51-7a84-4866-bec7-3bd66bfefe3e",
      "metadata": {
        "id": "665b1c51-7a84-4866-bec7-3bd66bfefe3e"
      },
      "outputs": [],
      "source": [
        "# Filtrer les lignes où Label == 1\n",
        "filtered = test[test['Label'] == 1]\n",
        "\n",
        "# Supprimer les doublons en gardant la première occurrence\n",
        "filtered = filtered.drop_duplicates(subset='Sentence', keep='first')\n",
        "\n",
        "# Récupérer les 1000 exemples dans test_x et test_y\n",
        "test_x = filtered['Sentence'].values\n",
        "test_y = filtered['Label'].values\n",
        "\n",
        "test_x = vectorizer.transform(test_x).toarray()\n"
      ]
    },
    {
      "cell_type": "markdown",
      "id": "ace9a4c0",
      "metadata": {
        "id": "ace9a4c0"
      },
      "source": [
        "#### Prediction and Metrics Evaluation\n"
      ]
    },
    {
      "cell_type": "code",
      "execution_count": 103,
      "id": "6354d79b-8cde-4c95-a6bf-c8090c7bd681",
      "metadata": {
        "colab": {
          "base_uri": "https://localhost:8080/"
        },
        "id": "6354d79b-8cde-4c95-a6bf-c8090c7bd681",
        "outputId": "6a105853-2caa-4858-ca47-b27c4d68547d"
      },
      "outputs": [
        {
          "name": "stdout",
          "output_type": "stream",
          "text": [
            "\u001b[1m357/357\u001b[0m \u001b[32m━━━━━━━━━━━━━━━━━━━━\u001b[0m\u001b[37m\u001b[0m \u001b[1m1s\u001b[0m 1ms/step\n"
          ]
        }
      ],
      "source": [
        "predictions = model.predict(test_x)\n"
      ]
    },
    {
      "cell_type": "code",
      "execution_count": 104,
      "id": "297b89a0-c9d5-4be6-bd80-3863920a4afd",
      "metadata": {
        "colab": {
          "base_uri": "https://localhost:8080/"
        },
        "id": "297b89a0-c9d5-4be6-bd80-3863920a4afd",
        "outputId": "01554b1f-50fc-430a-8c07-062db7cb8040"
      },
      "outputs": [
        {
          "name": "stdout",
          "output_type": "stream",
          "text": [
            "[1 1 0 ... 1 1 1]\n"
          ]
        }
      ],
      "source": [
        "# Convertir les probabilités en classes binaires\n",
        "predicted_classes = (predictions >= 0.5).astype(int)\n",
        "\n",
        "# Afficher les 20 premières prédictions\n",
        "print(predicted_classes.flatten())\n"
      ]
    },
    {
      "cell_type": "code",
      "execution_count": 105,
      "id": "897b8dbb-f912-4179-8751-8523a26d65b9",
      "metadata": {
        "colab": {
          "base_uri": "https://localhost:8080/"
        },
        "id": "897b8dbb-f912-4179-8751-8523a26d65b9",
        "outputId": "5edbacc6-8271-419d-8e84-237b56705bbc"
      },
      "outputs": [
        {
          "name": "stdout",
          "output_type": "stream",
          "text": [
            "number of query detected as SQL injection  : 11256\n"
          ]
        }
      ],
      "source": [
        "# Compter le nombre de prédictions égales à 1\n",
        "nombre_de_sql_injections = (predicted_classes == 1).sum()\n",
        "\n",
        "print(f\"number of query detected as SQL injection  : {nombre_de_sql_injections}\")\n"
      ]
    },
    {
      "cell_type": "code",
      "execution_count": 106,
      "id": "ea613088-a76a-48cc-9a08-862965a0179c",
      "metadata": {
        "colab": {
          "base_uri": "https://localhost:8080/",
          "height": 178
        },
        "id": "ea613088-a76a-48cc-9a08-862965a0179c",
        "outputId": "34d00b4e-f47d-4ecc-ae26-8093ba0747e1"
      },
      "outputs": [
        {
          "data": {
            "text/html": [
              "<div>\n",
              "<style scoped>\n",
              "    .dataframe tbody tr th:only-of-type {\n",
              "        vertical-align: middle;\n",
              "    }\n",
              "\n",
              "    .dataframe tbody tr th {\n",
              "        vertical-align: top;\n",
              "    }\n",
              "\n",
              "    .dataframe thead th {\n",
              "        text-align: right;\n",
              "    }\n",
              "</style>\n",
              "<table border=\"1\" class=\"dataframe\">\n",
              "  <thead>\n",
              "    <tr style=\"text-align: right;\">\n",
              "      <th></th>\n",
              "      <th>count</th>\n",
              "    </tr>\n",
              "    <tr>\n",
              "      <th>Label</th>\n",
              "      <th></th>\n",
              "    </tr>\n",
              "  </thead>\n",
              "  <tbody>\n",
              "    <tr>\n",
              "      <th>0</th>\n",
              "      <td>22304</td>\n",
              "    </tr>\n",
              "    <tr>\n",
              "      <th>1</th>\n",
              "      <td>11453</td>\n",
              "    </tr>\n",
              "  </tbody>\n",
              "</table>\n",
              "</div><br><label><b>dtype:</b> int64</label>"
            ],
            "text/plain": [
              "Label\n",
              "0    22304\n",
              "1    11453\n",
              "Name: count, dtype: int64"
            ]
          },
          "execution_count": 106,
          "metadata": {},
          "output_type": "execute_result"
        }
      ],
      "source": [
        "test.Label.value_counts()\n"
      ]
    },
    {
      "cell_type": "code",
      "execution_count": 107,
      "id": "567d18ee-2f71-4c95-8939-08a1a2bd5dd4",
      "metadata": {
        "colab": {
          "base_uri": "https://localhost:8080/"
        },
        "id": "567d18ee-2f71-4c95-8939-08a1a2bd5dd4",
        "outputId": "63595c9e-e090-48f4-f8a5-1d50f3762868"
      },
      "outputs": [
        {
          "name": "stdout",
          "output_type": "stream",
          "text": [
            "number of query detected as SQL injection : 11256 / 11424\n",
            "Accuracy  : 98.53%\n",
            "Precision : 100.00%\n",
            "Recall : 98.53%\n",
            "F1 Score : 99.26%\n"
          ]
        }
      ],
      "source": [
        "\n",
        "\n",
        "\n",
        "print(f\"number of query detected as SQL injection : {nombre_de_sql_injections} / {len(test_x)}\")\n",
        "print(f\"Accuracy  : {accuracy_score(test_y, predicted_classes) * 100:.2f}%\")\n",
        "print(f\"Precision : {precision_score(test_y, predicted_classes, zero_division=0) * 100:.2f}%\")\n",
        "print(f\"Recall : {recall_score(test_y, predicted_classes, zero_division=0) * 100:.2f}%\")\n",
        "print(f\"F1 Score : {f1_score(test_y, predicted_classes, zero_division=0) * 100:.2f}%\")\n"
      ]
    },
    {
      "cell_type": "markdown",
      "id": "e3d7d921",
      "metadata": {
        "id": "e3d7d921"
      },
      "source": [
        "#### Filter Only Normal Queries (Label = 0)\n"
      ]
    },
    {
      "cell_type": "code",
      "execution_count": 108,
      "id": "304fecda-0937-4a24-aa21-84d571fdf73b",
      "metadata": {
        "id": "304fecda-0937-4a24-aa21-84d571fdf73b"
      },
      "outputs": [],
      "source": [
        "\n",
        "filtered2 = test[test['Label'] == 0]\n",
        "filtered2 = filtered2.drop_duplicates(subset='Sentence', keep='first')\n",
        "\n",
        "\n",
        "test_x2 = filtered2['Sentence'].values\n",
        "test_y2 = filtered2['Label'].values\n",
        "\n",
        "\n",
        "test_x2 = vectorizer.transform(test_x2).toarray()"
      ]
    },
    {
      "cell_type": "markdown",
      "id": "733ce9f2",
      "metadata": {
        "id": "733ce9f2"
      },
      "source": [
        "#### Prediction and Metrics Evaluation\n"
      ]
    },
    {
      "cell_type": "code",
      "execution_count": 109,
      "id": "5219941a-913d-4dd9-a76c-d06ec9f6b6a4",
      "metadata": {
        "colab": {
          "base_uri": "https://localhost:8080/"
        },
        "id": "5219941a-913d-4dd9-a76c-d06ec9f6b6a4",
        "outputId": "04d21dbf-2447-4019-b26e-5cb17f3394e1"
      },
      "outputs": [
        {
          "name": "stdout",
          "output_type": "stream",
          "text": [
            "\u001b[1m697/697\u001b[0m \u001b[32m━━━━━━━━━━━━━━━━━━━━\u001b[0m\u001b[37m\u001b[0m \u001b[1m1s\u001b[0m 2ms/step\n"
          ]
        }
      ],
      "source": [
        "predictions2 = model.predict(test_x2)\n"
      ]
    },
    {
      "cell_type": "code",
      "execution_count": 110,
      "id": "7ed7e654-891b-4e0c-98ce-2a5dcb61b884",
      "metadata": {
        "colab": {
          "base_uri": "https://localhost:8080/"
        },
        "id": "7ed7e654-891b-4e0c-98ce-2a5dcb61b884",
        "outputId": "8c004e79-44e5-4912-d801-42af8e705000"
      },
      "outputs": [
        {
          "name": "stdout",
          "output_type": "stream",
          "text": [
            "[0 0 0 ... 0 0 0]\n"
          ]
        }
      ],
      "source": [
        "# Convertir les probabilités en classes binaires\n",
        "predicted_classes2 = (predictions2 >= 0.5).astype(int)\n",
        "\n",
        "# Afficher les 20 premières prédictions\n",
        "print(predicted_classes2.flatten())\n"
      ]
    },
    {
      "cell_type": "code",
      "execution_count": 111,
      "id": "963574de-32e1-4ec0-b4a4-326ad42c5cb9",
      "metadata": {
        "colab": {
          "base_uri": "https://localhost:8080/"
        },
        "id": "963574de-32e1-4ec0-b4a4-326ad42c5cb9",
        "outputId": "4212f272-e5cc-41b5-b54b-d2044807bf4e"
      },
      "outputs": [
        {
          "name": "stdout",
          "output_type": "stream",
          "text": [
            "Nombre detected as normal query : 22195\n"
          ]
        }
      ],
      "source": [
        "\n",
        "nombre_de_non_sql_injections = (predicted_classes2 == 0).sum()\n",
        "\n",
        "print(f\"Nombre detected as normal query : {nombre_de_non_sql_injections}\")\n"
      ]
    },
    {
      "cell_type": "code",
      "execution_count": 112,
      "id": "bb432528-9479-4823-b496-f56738fd048e",
      "metadata": {
        "colab": {
          "base_uri": "https://localhost:8080/",
          "height": 178
        },
        "id": "bb432528-9479-4823-b496-f56738fd048e",
        "outputId": "dbf2c31a-06c1-42de-e562-c93a184f138e"
      },
      "outputs": [
        {
          "data": {
            "text/html": [
              "<div>\n",
              "<style scoped>\n",
              "    .dataframe tbody tr th:only-of-type {\n",
              "        vertical-align: middle;\n",
              "    }\n",
              "\n",
              "    .dataframe tbody tr th {\n",
              "        vertical-align: top;\n",
              "    }\n",
              "\n",
              "    .dataframe thead th {\n",
              "        text-align: right;\n",
              "    }\n",
              "</style>\n",
              "<table border=\"1\" class=\"dataframe\">\n",
              "  <thead>\n",
              "    <tr style=\"text-align: right;\">\n",
              "      <th></th>\n",
              "      <th>count</th>\n",
              "    </tr>\n",
              "    <tr>\n",
              "      <th>Label</th>\n",
              "      <th></th>\n",
              "    </tr>\n",
              "  </thead>\n",
              "  <tbody>\n",
              "    <tr>\n",
              "      <th>0</th>\n",
              "      <td>22304</td>\n",
              "    </tr>\n",
              "    <tr>\n",
              "      <th>1</th>\n",
              "      <td>11453</td>\n",
              "    </tr>\n",
              "  </tbody>\n",
              "</table>\n",
              "</div><br><label><b>dtype:</b> int64</label>"
            ],
            "text/plain": [
              "Label\n",
              "0    22304\n",
              "1    11453\n",
              "Name: count, dtype: int64"
            ]
          },
          "execution_count": 112,
          "metadata": {},
          "output_type": "execute_result"
        }
      ],
      "source": [
        "test.Label.value_counts()\n"
      ]
    },
    {
      "cell_type": "code",
      "execution_count": 113,
      "id": "647ed4f8-56b8-4b6e-aba5-d6bd32bd704f",
      "metadata": {
        "colab": {
          "base_uri": "https://localhost:8080/"
        },
        "id": "647ed4f8-56b8-4b6e-aba5-d6bd32bd704f",
        "outputId": "65ca224e-811b-46d8-8980-34adc0ce673b"
      },
      "outputs": [
        {
          "name": "stdout",
          "output_type": "stream",
          "text": [
            "Nombre detected as normal queries : 22195 / 22303\n",
            "Accuracy : 99.52%\n",
            "Precision (classe 0) : 100.00%\n",
            "Recall (classe 0) : 99.52%\n",
            "F1 Score (classe 0) : 99.76%\n"
          ]
        }
      ],
      "source": [
        "\n",
        "print(f\"Nombre detected as normal queries : {nombre_de_non_sql_injections} / {len(test_x2)}\")\n",
        "\n",
        "# Métriques adaptées à la classe 0\n",
        "print(f\"Accuracy : {accuracy_score(test_y2, predicted_classes2) * 100:.2f}%\")\n",
        "print(f\"Precision (classe 0) : {precision_score(test_y2, predicted_classes2, zero_division=0, pos_label=0) * 100:.2f}%\")\n",
        "print(f\"Recall (classe 0) : {recall_score(test_y2, predicted_classes2, zero_division=0, pos_label=0) * 100:.2f}%\")\n",
        "print(f\"F1 Score (classe 0) : {f1_score(test_y2, predicted_classes2, zero_division=0, pos_label=0) * 100:.2f}%\")\n"
      ]
    }
  ],
  "metadata": {
    "accelerator": "GPU",
    "colab": {
      "gpuType": "T4",
      "provenance": []
    },
    "kernelspec": {
      "display_name": "Python 3 (ipykernel)",
      "language": "python",
      "name": "python3"
    },
    "language_info": {
      "codemirror_mode": {
        "name": "ipython",
        "version": 3
      },
      "file_extension": ".py",
      "mimetype": "text/x-python",
      "name": "python",
      "nbconvert_exporter": "python",
      "pygments_lexer": "ipython3",
      "version": "3.9.18"
    }
  },
  "nbformat": 4,
  "nbformat_minor": 5
}
